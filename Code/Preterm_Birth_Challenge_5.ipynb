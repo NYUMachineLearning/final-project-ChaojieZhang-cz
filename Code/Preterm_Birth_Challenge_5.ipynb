{
 "cells": [
  {
   "cell_type": "code",
   "execution_count": 1,
   "metadata": {},
   "outputs": [],
   "source": [
    "import pandas as pd\n",
    "import numpy as np\n",
    "import seaborn as sns\n",
    "import matplotlib.pyplot as plt\n",
    "import pickle\n",
    "from sklearn import svm, datasets\n",
    "from sklearn.linear_model import LogisticRegression\n",
    "from sklearn.model_selection import train_test_split\n",
    "from sklearn.model_selection import cross_val_score\n",
    "from sklearn.metrics import accuracy_score\n",
    "from sklearn.metrics import roc_curve, auc\n",
    "from sklearn.metrics import confusion_matrix\n",
    "from sklearn.neighbors import KNeighborsClassifier\n",
    "from sklearn.multiclass import OneVsRestClassifier\n",
    "from sklearn.ensemble import RandomForestClassifier\n",
    "from sklearn.naive_bayes import GaussianNB\n",
    "from sklearn.svm import SVC\n",
    "from sklearn.discriminant_analysis import LinearDiscriminantAnalysis as LDA\n",
    "from sklearn.utils.multiclass import unique_labels\n",
    "from sklearn.decomposition import PCA\n",
    "from sklearn.feature_selection import RFE\n",
    "from sklearn.model_selection import KFold"
   ]
  },
  {
   "cell_type": "code",
   "execution_count": 2,
   "metadata": {},
   "outputs": [],
   "source": [
    "# ignore warnings\n",
    "import warnings\n",
    "warnings.filterwarnings('ignore')"
   ]
  },
  {
   "cell_type": "code",
   "execution_count": null,
   "metadata": {},
   "outputs": [],
   "source": []
  },
  {
   "cell_type": "markdown",
   "metadata": {},
   "source": [
    "## Read Files"
   ]
  },
  {
   "cell_type": "code",
   "execution_count": 3,
   "metadata": {},
   "outputs": [],
   "source": [
    "# normalized data, with GA effect\n",
    "#data = pd.read_csv(\"esetSC2_normalized.csv\")\n",
    "\n",
    "# data here is normalized, and the GA effect is removed.\n",
    "data = pd.read_csv(\"esetSC2_remove_effect.csv\")\n",
    "\n",
    "# data information\n",
    "data_info = pd.read_csv('anoSC2_v20_nokey.csv')\n",
    "\n",
    "# GA information\n",
    "GA_info = pd.read_csv(\"allSamplesSC1and2.csv\")\n",
    "\n",
    "GA_infomation = GA_info.set_index(\"SampleID\")\n",
    "GA_infomation = GA_infomation.loc[data.columns]\n",
    "data_infomation = data_info.reset_index().set_index(\"SampleID\").drop(columns = 'index')\n",
    "data_infomation = data_infomation.loc[data.columns]\n",
    "data_infomation = data_infomation[(data_infomation['Group']=='Control') | (data_infomation['Group']=='sPTD')]\n",
    "data = data[data_infomation.index]\n",
    "data_copy = data"
   ]
  },
  {
   "cell_type": "code",
   "execution_count": null,
   "metadata": {},
   "outputs": [],
   "source": []
  },
  {
   "cell_type": "markdown",
   "metadata": {},
   "source": [
    "## Split the data into train and test"
   ]
  },
  {
   "cell_type": "code",
   "execution_count": 4,
   "metadata": {},
   "outputs": [],
   "source": [
    "def SampleList_To_Group(sample_list, data_infomation = data_infomation):\n",
    "    control_sample = []\n",
    "    sPTD_sample = []\n",
    "    sample_group = []\n",
    "    for sample in sample_list:\n",
    "        group = data_infomation.loc[[sample]][['Group']].values[0][0]\n",
    "        if group == 'Control':\n",
    "            control_sample.append(sample)\n",
    "            sample_group.append('Control')\n",
    "        if group == 'sPTD':\n",
    "            sPTD_sample.append(sample)\n",
    "            sample_group.append('sPTD')\n",
    "    return sample_group, control_sample, sPTD_sample"
   ]
  },
  {
   "cell_type": "code",
   "execution_count": 5,
   "metadata": {},
   "outputs": [],
   "source": [
    "sample_list = list(data.columns)\n",
    "sample_group, control_sample, sPTD_sample = SampleList_To_Group(sample_list)\n",
    "xtrain,xtest,ytrain,ytest = train_test_split(data.transpose(), sample_group,test_size=0.2, random_state=1)\n",
    "xtrain_copy = xtrain\n",
    "ytrain_copy = ytrain"
   ]
  },
  {
   "cell_type": "code",
   "execution_count": null,
   "metadata": {},
   "outputs": [],
   "source": []
  },
  {
   "cell_type": "code",
   "execution_count": null,
   "metadata": {},
   "outputs": [],
   "source": []
  },
  {
   "cell_type": "markdown",
   "metadata": {},
   "source": [
    "## Preliminary Feature Selection: Choose genes with high t-test score in different GA and all GAs"
   ]
  },
  {
   "cell_type": "markdown",
   "metadata": {},
   "source": [
    "Select genes: local similarity >= 3 (in different GA) and global similarity >= 2 (in all GA)"
   ]
  },
  {
   "cell_type": "code",
   "execution_count": 6,
   "metadata": {},
   "outputs": [],
   "source": [
    "control_sample = []\n",
    "sPTD_sample = []\n",
    "sapmles = list(xtrain.index)\n",
    "sample_group, control_sample, sPTD_sample = SampleList_To_Group(sapmles)\n",
    "sPTD_data = xtrain.transpose()[control_sample + sPTD_sample]\n",
    "df = sPTD_data\n",
    "df[['Control_mean', 'Control_std']] = df[control_sample].agg(['mean', 'std'], axis=1)\n",
    "df[['sPTD_mean', 'sPTD_std']] = df[sPTD_sample].agg(['mean', 'std'], axis=1)\n",
    "def welch_t_test(row):\n",
    "    return (\n",
    "        (row['Control_mean'] - row['sPTD_mean']) / \n",
    "        np.sqrt(row['Control_std']/len(control_sample) + row['sPTD_std']/len(sPTD_sample))\n",
    "    )\n",
    "df['similarity'] = df[['Control_mean', 'Control_std', 'sPTD_mean', 'sPTD_std']].apply(welch_t_test, axis=1)\n",
    "df['similarity_abs'] = abs(df['similarity'])\n",
    "df_sorted = df.sort_values('similarity_abs',ascending=False)"
   ]
  },
  {
   "cell_type": "code",
   "execution_count": 7,
   "metadata": {},
   "outputs": [],
   "source": [
    "df_dict_GA=pickle.load(open('df_dict_GA_1.txt', 'rb'))\n",
    "gene_similarity = []\n",
    "for key in df_dict_GA:\n",
    "    df = df_dict_GA[key]\n",
    "    gene = df.loc[df[\"similarity_abs\"] >= 3].index.tolist()\n",
    "    gene_similarity = gene_similarity + gene\n",
    "gene = sPTD_data.loc[df_sorted[\"similarity_abs\"] >= 2].index.tolist()\n",
    "gene_similarity = gene_similarity + gene\n",
    "gene_similarity = np.unique(gene_similarity)\n",
    "xtrain = xtrain[gene_similarity]\n",
    "xtest = xtest[gene_similarity]\n",
    "xtrain_copy = xtrain"
   ]
  },
  {
   "cell_type": "code",
   "execution_count": null,
   "metadata": {},
   "outputs": [],
   "source": []
  },
  {
   "cell_type": "code",
   "execution_count": null,
   "metadata": {},
   "outputs": [],
   "source": []
  },
  {
   "cell_type": "code",
   "execution_count": null,
   "metadata": {},
   "outputs": [],
   "source": []
  },
  {
   "cell_type": "markdown",
   "metadata": {},
   "source": [
    "## Resampling"
   ]
  },
  {
   "cell_type": "code",
   "execution_count": 8,
   "metadata": {},
   "outputs": [],
   "source": [
    "import random\n",
    "def resample(xtrain,ytrain,random_state=1):\n",
    "    random.seed(random_state)\n",
    "    sample_list = list(xtrain.index)\n",
    "    sample_group, control_sample, sPTD_sample = SampleList_To_Group(sample_list)\n",
    "    if len(control_sample) > len(sPTD_sample):\n",
    "        Large_sample = control_sample\n",
    "        Small_sample = sPTD_sample\n",
    "    else:\n",
    "        Large_sample = sPTD_sample\n",
    "        Small_sample = control_sample\n",
    "    samples = Small_sample+Large_sample\n",
    "    for i in range(len(Large_sample)-len(Small_sample)):\n",
    "        samples.append(random.sample(Small_sample,1)[0])\n",
    "    sample_group, control_sample, sPTD_sample = SampleList_To_Group(samples)\n",
    "    return samples,sample_group"
   ]
  },
  {
   "cell_type": "code",
   "execution_count": 9,
   "metadata": {},
   "outputs": [],
   "source": [
    "# FROM SKLEARN DOCS: https://scikit-learn.org/stable/auto_examples/model_selection/plot_confusion_matrix.html#sphx-glr-auto-examples-model-selection-plot-confusion-matrix-py\n",
    "\n",
    "# THIS FUNCTION DOES NOT WORK WELL WITH ONLY 2 CLASSES\n",
    "\n",
    "def plot_confusion_matrix(y_true, y_pred, classes,\n",
    "                          normalize=True,\n",
    "                          title=None,\n",
    "                          cmap=plt.cm.Blues):\n",
    "    \"\"\"\n",
    "    This function prints and plots the confusion matrix.\n",
    "    Normalization can be applied by setting `normalize=True`.\n",
    "    \"\"\"\n",
    "    if not title:\n",
    "        if normalize:\n",
    "            title = 'Normalized confusion matrix'\n",
    "        else:\n",
    "            title = 'Confusion matrix, without normalization'\n",
    "\n",
    "    # Compute confusion matrix\n",
    "    cm = confusion_matrix(y_true, y_pred)\n",
    "    # Only use the labels that appear in the data\n",
    "    classes = classes[unique_labels(y_true, y_pred)]\n",
    "    if normalize:\n",
    "        cm = cm.astype('float') / cm.sum(axis=1)[:, np.newaxis]\n",
    "        print(\"Normalized confusion matrix\")\n",
    "    else:\n",
    "        print('Confusion matrix, without normalization')\n",
    "\n",
    "    print(cm)\n",
    "    print(cm.shape)\n",
    "\n",
    "    fig, ax = plt.subplots()\n",
    "    im = ax.imshow(cm, interpolation='nearest', cmap=cmap)\n",
    "    ax.figure.colorbar(im, ax=ax)\n",
    "    # We want to show all ticks...\n",
    "    ax.set(xticks=np.arange(cm.shape[1]),\n",
    "           yticks=np.arange(-0.5, cm.shape[0]),\n",
    "           # ... and label them with the respective list entries\n",
    "           xticklabels=classes, yticklabels=classes,\n",
    "           title=title,\n",
    "           ylabel='True label',\n",
    "           xlabel='Predicted label')\n",
    "\n",
    "    # Rotate the tick labels and set their alignment.\n",
    "    plt.setp(ax.get_xticklabels(), rotation=45, ha=\"right\",\n",
    "             rotation_mode=\"anchor\")\n",
    "\n",
    "    # Loop over data dimensions and create text annotations.\n",
    "    fmt = '.2f' if normalize else 'd'\n",
    "    thresh = cm.max() / 2.\n",
    "    for i in range(cm.shape[0]):\n",
    "        for j in range(cm.shape[1]):\n",
    "            ax.text(j, i, format(cm[i, j], fmt),\n",
    "                    ha=\"center\", va=\"center\",\n",
    "                    color=\"white\" if cm[i, j] > thresh else \"black\")\n",
    "    fig.tight_layout()\n",
    "    return ax"
   ]
  },
  {
   "cell_type": "code",
   "execution_count": null,
   "metadata": {},
   "outputs": [],
   "source": []
  },
  {
   "cell_type": "code",
   "execution_count": null,
   "metadata": {},
   "outputs": [],
   "source": []
  },
  {
   "cell_type": "code",
   "execution_count": null,
   "metadata": {},
   "outputs": [],
   "source": []
  },
  {
   "cell_type": "markdown",
   "metadata": {},
   "source": [
    "## Random Forest"
   ]
  },
  {
   "cell_type": "code",
   "execution_count": 10,
   "metadata": {},
   "outputs": [
    {
     "name": "stdout",
     "output_type": "stream",
     "text": [
      "Accuracy: 0.8823529411764706\n",
      "Normalized confusion matrix\n",
      "[[0.         1.        ]\n",
      " [0.04255319 0.95744681]]\n",
      "(2, 2)\n"
     ]
    },
    {
     "data": {
      "image/png": "[encoded data removed]",
      "text/plain": [
       "<Figure size 432x288 with 2 Axes>"
      ]
     },
     "metadata": {
      "needs_background": "light"
     },
     "output_type": "display_data"
    }
   ],
   "source": [
    "xtrain = xtrain_copy\n",
    "ytrain = ytrain_copy\n",
    "x_samples,ytrain = resample(xtrain,ytrain,random_state=1)\n",
    "xtrain = xtrain.loc[x_samples]\n",
    "clf = RandomForestClassifier(n_estimators=100, max_depth=2, random_state=1)\n",
    "clf.fit(xtrain, ytrain)\n",
    "y_test = ytest\n",
    "y_test = [0 if x == 'sPTD' else x for x in y_test]\n",
    "y_test = [1 if x == 'Control' else x for x in y_test]\n",
    "\n",
    "pred = clf.predict(xtest).tolist()\n",
    "pred = [0 if x == 'sPTD' else x for x in pred]\n",
    "pred = [1 if x == 'Control' else x for x in pred]\n",
    "correct_num = 0\n",
    "for i in range(len(y_test)):\n",
    "    if y_test[i]==pred[i]:\n",
    "        correct_num = correct_num+1\n",
    "Accuracy = correct_num/len(y_test)\n",
    "print('Accuracy:',Accuracy)\n",
    "class_names = np.array(['sPTD', 'Control'])\n",
    "_ = plot_confusion_matrix(y_test, pred, class_names)"
   ]
  },
  {
   "cell_type": "code",
   "execution_count": 11,
   "metadata": {},
   "outputs": [
    {
     "data": {
      "text/plain": [
       "array(['Control', 'Control', 'Control', 'Control', 'Control', 'Control',\n",
       "       'Control', 'Control', 'Control', 'Control', 'Control', 'Control',\n",
       "       'Control', 'Control', 'Control', 'Control', 'Control', 'Control',\n",
       "       'Control', 'Control', 'Control', 'Control', 'Control', 'Control',\n",
       "       'Control', 'Control', 'Control', 'Control', 'Control', 'Control',\n",
       "       'sPTD', 'Control', 'Control', 'Control', 'Control', 'Control',\n",
       "       'Control', 'Control', 'Control', 'Control', 'Control', 'Control',\n",
       "       'Control', 'Control', 'Control', 'Control', 'Control', 'sPTD',\n",
       "       'Control', 'Control', 'Control'], dtype='<U7')"
      ]
     },
     "execution_count": 11,
     "metadata": {},
     "output_type": "execute_result"
    }
   ],
   "source": [
    "clf.predict(xtest)"
   ]
  },
  {
   "cell_type": "markdown",
   "metadata": {},
   "source": [
    "## Support Vector Machine"
   ]
  },
  {
   "cell_type": "code",
   "execution_count": 12,
   "metadata": {},
   "outputs": [
    {
     "name": "stdout",
     "output_type": "stream",
     "text": [
      "Accuracy: 0.9019607843137255\n",
      "Normalized confusion matrix\n",
      "[[0.5        0.5       ]\n",
      " [0.06382979 0.93617021]]\n",
      "(2, 2)\n"
     ]
    },
    {
     "data": {
      "image/png": "[encoded data removed]",
      "text/plain": [
       "<Figure size 432x288 with 2 Axes>"
      ]
     },
     "metadata": {
      "needs_background": "light"
     },
     "output_type": "display_data"
    }
   ],
   "source": [
    "xtrain = xtrain_copy\n",
    "ytrain = ytrain_copy\n",
    "x_samples,ytrain = resample(xtrain,ytrain,random_state=1)\n",
    "xtrain = xtrain.loc[x_samples]\n",
    "clf = svm.SVC(gamma='scale')\n",
    "clf.fit(xtrain, ytrain)\n",
    "y_test = ytest\n",
    "y_test = [0 if x == 'sPTD' else x for x in y_test]\n",
    "y_test = [1 if x == 'Control' else x for x in y_test]\n",
    "pred = clf.predict(xtest).tolist()\n",
    "pred = [0 if x == 'sPTD' else x for x in pred]\n",
    "pred = [1 if x == 'Control' else x for x in pred]\n",
    "correct_num = 0\n",
    "for i in range(len(y_test)):\n",
    "    if y_test[i]==pred[i]:\n",
    "        correct_num = correct_num+1\n",
    "Accuracy = correct_num/len(y_test)\n",
    "print('Accuracy:',Accuracy)\n",
    "class_names = np.array(['sPTD', 'Control'])\n",
    "_ = plot_confusion_matrix(y_test, pred, class_names)"
   ]
  },
  {
   "cell_type": "code",
   "execution_count": null,
   "metadata": {},
   "outputs": [],
   "source": []
  },
  {
   "cell_type": "code",
   "execution_count": null,
   "metadata": {},
   "outputs": [],
   "source": []
  },
  {
   "cell_type": "code",
   "execution_count": null,
   "metadata": {},
   "outputs": [],
   "source": []
  },
  {
   "cell_type": "code",
   "execution_count": null,
   "metadata": {},
   "outputs": [],
   "source": []
  },
  {
   "cell_type": "code",
   "execution_count": null,
   "metadata": {},
   "outputs": [],
   "source": []
  },
  {
   "cell_type": "code",
   "execution_count": null,
   "metadata": {},
   "outputs": [],
   "source": []
  },
  {
   "cell_type": "code",
   "execution_count": null,
   "metadata": {},
   "outputs": [],
   "source": []
  },
  {
   "cell_type": "code",
   "execution_count": null,
   "metadata": {},
   "outputs": [],
   "source": []
  }
 ],
 "metadata": {
  "kernelspec": {
   "display_name": "Python 3",
   "language": "python",
   "name": "python3"
  },
  "language_info": {
   "codemirror_mode": {
    "name": "ipython",
    "version": 3
   },
   "file_extension": ".py",
   "mimetype": "text/x-python",
   "name": "python",
   "nbconvert_exporter": "python",
   "pygments_lexer": "ipython3",
   "version": "3.6.9"
  }
 },
 "nbformat": 4,
 "nbformat_minor": 2
}
