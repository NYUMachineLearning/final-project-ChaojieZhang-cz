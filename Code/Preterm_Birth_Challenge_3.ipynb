{
 "cells": [
  {
   "cell_type": "code",
   "execution_count": 1,
   "metadata": {},
   "outputs": [],
   "source": [
    "import pandas as pd\n",
    "import numpy as np\n",
    "import seaborn as sns\n",
    "import matplotlib.pyplot as plt\n",
    "import pickle\n",
    "from sklearn import svm, datasets\n",
    "from sklearn.model_selection import train_test_split\n",
    "from sklearn.model_selection import cross_val_score\n",
    "from sklearn.metrics import accuracy_score\n",
    "from sklearn.metrics import roc_curve, auc\n",
    "from sklearn.metrics import confusion_matrix\n",
    "from sklearn.linear_model import LogisticRegression\n",
    "from sklearn.neighbors import KNeighborsClassifier\n",
    "from sklearn.multiclass import OneVsRestClassifier\n",
    "from sklearn.ensemble import RandomForestClassifier\n",
    "from sklearn.naive_bayes import GaussianNB\n",
    "from sklearn.svm import SVC\n",
    "from sklearn.discriminant_analysis import LinearDiscriminantAnalysis as LDA\n",
    "from sklearn.utils.multiclass import unique_labels\n",
    "from sklearn.decomposition import PCA\n",
    "from sklearn.feature_selection import RFE\n",
    "from sklearn.model_selection import KFold"
   ]
  },
  {
   "cell_type": "code",
   "execution_count": 2,
   "metadata": {},
   "outputs": [],
   "source": [
    "# ignore warnings\n",
    "import warnings\n",
    "warnings.filterwarnings('ignore')"
   ]
  },
  {
   "cell_type": "code",
   "execution_count": null,
   "metadata": {},
   "outputs": [],
   "source": []
  },
  {
   "cell_type": "markdown",
   "metadata": {},
   "source": [
    "## Read Files"
   ]
  },
  {
   "cell_type": "code",
   "execution_count": 3,
   "metadata": {},
   "outputs": [],
   "source": [
    "# normalized data, with GA effect\n",
    "#data = pd.read_csv(\"esetSC2_normalized.csv\")\n",
    "\n",
    "# data here is normalized, and the GA effect is removed.\n",
    "data = pd.read_csv(\"esetSC2_remove_effect.csv\")\n",
    "\n",
    "# data information\n",
    "data_info = pd.read_csv('anoSC2_v20_nokey.csv')\n",
    "\n",
    "# GA information\n",
    "GA_info = pd.read_csv(\"allSamplesSC1and2.csv\")\n",
    "\n",
    "GA_infomation = GA_info.set_index(\"SampleID\")\n",
    "GA_infomation = GA_infomation.loc[data.columns]\n",
    "data_infomation = data_info.reset_index().set_index(\"SampleID\").drop(columns = 'index')\n",
    "data_infomation = data_infomation.loc[data.columns]\n",
    "data_infomation = data_infomation[(data_infomation['Group']=='Control') | (data_infomation['Group']=='sPTD')]\n",
    "data = data[data_infomation.index]\n",
    "data_copy = data"
   ]
  },
  {
   "cell_type": "code",
   "execution_count": null,
   "metadata": {},
   "outputs": [],
   "source": []
  },
  {
   "cell_type": "markdown",
   "metadata": {},
   "source": [
    "## Split the data into train and test"
   ]
  },
  {
   "cell_type": "code",
   "execution_count": 4,
   "metadata": {},
   "outputs": [],
   "source": [
    "def SampleList_To_Group(sample_list, data_infomation = data_infomation):\n",
    "    control_sample = []\n",
    "    sPTD_sample = []\n",
    "    sample_group = []\n",
    "    for sample in sample_list:\n",
    "        group = data_infomation.loc[[sample]][['Group']].values[0][0]\n",
    "        if group == 'Control':\n",
    "            control_sample.append(sample)\n",
    "            sample_group.append('Control')\n",
    "        if group == 'sPTD':\n",
    "            sPTD_sample.append(sample)\n",
    "            sample_group.append('sPTD')\n",
    "    return sample_group, control_sample, sPTD_sample"
   ]
  },
  {
   "cell_type": "code",
   "execution_count": 5,
   "metadata": {},
   "outputs": [],
   "source": [
    "sample_list = list(data.columns)\n",
    "sample_group, control_sample, sPTD_sample = SampleList_To_Group(sample_list)\n",
    "xtrain,xtest,ytrain,ytest = train_test_split(data.transpose(), sample_group,test_size=0.2, random_state=1)"
   ]
  },
  {
   "cell_type": "code",
   "execution_count": null,
   "metadata": {},
   "outputs": [],
   "source": []
  },
  {
   "cell_type": "code",
   "execution_count": null,
   "metadata": {},
   "outputs": [],
   "source": []
  },
  {
   "cell_type": "code",
   "execution_count": null,
   "metadata": {},
   "outputs": [],
   "source": []
  },
  {
   "cell_type": "markdown",
   "metadata": {},
   "source": [
    "## Calculate the \"similarity score\" by t-test"
   ]
  },
  {
   "cell_type": "code",
   "execution_count": 6,
   "metadata": {},
   "outputs": [],
   "source": [
    "control_sample = []\n",
    "sPTD_sample = []\n",
    "sapmles = list(xtrain.index)\n",
    "sample_group, control_sample, sPTD_sample = SampleList_To_Group(sapmles)\n",
    "sPTD_data = xtrain.transpose()[control_sample + sPTD_sample]"
   ]
  },
  {
   "cell_type": "code",
   "execution_count": 7,
   "metadata": {},
   "outputs": [
    {
     "data": {
      "text/html": [
       "<div>\n",
       "<style scoped>\n",
       "    .dataframe tbody tr th:only-of-type {\n",
       "        vertical-align: middle;\n",
       "    }\n",
       "\n",
       "    .dataframe tbody tr th {\n",
       "        vertical-align: top;\n",
       "    }\n",
       "\n",
       "    .dataframe thead th {\n",
       "        text-align: right;\n",
       "    }\n",
       "</style>\n",
       "<table border=\"1\" class=\"dataframe\">\n",
       "  <thead>\n",
       "    <tr style=\"text-align: right;\">\n",
       "      <th></th>\n",
       "      <th>GSM1437892</th>\n",
       "      <th>GSM1437987</th>\n",
       "      <th>GSM1438066</th>\n",
       "      <th>GSM1437983</th>\n",
       "      <th>GSM1437941</th>\n",
       "      <th>GSM1437829</th>\n",
       "      <th>GSM1437817</th>\n",
       "      <th>GSM1438063</th>\n",
       "      <th>GSM1438002</th>\n",
       "      <th>GSM1438008</th>\n",
       "      <th>...</th>\n",
       "      <th>GSM1437809</th>\n",
       "      <th>GSM1437861</th>\n",
       "      <th>GSM1438078</th>\n",
       "      <th>GSM1437977</th>\n",
       "      <th>Control_mean</th>\n",
       "      <th>Control_std</th>\n",
       "      <th>sPTD_mean</th>\n",
       "      <th>sPTD_std</th>\n",
       "      <th>similarity</th>\n",
       "      <th>similarity_abs</th>\n",
       "    </tr>\n",
       "  </thead>\n",
       "  <tbody>\n",
       "    <tr>\n",
       "      <td>28475_at</td>\n",
       "      <td>10.927796</td>\n",
       "      <td>10.622949</td>\n",
       "      <td>16.786358</td>\n",
       "      <td>12.513802</td>\n",
       "      <td>11.687113</td>\n",
       "      <td>11.734975</td>\n",
       "      <td>17.839968</td>\n",
       "      <td>17.555926</td>\n",
       "      <td>10.716478</td>\n",
       "      <td>11.599710</td>\n",
       "      <td>...</td>\n",
       "      <td>10.672335</td>\n",
       "      <td>17.283329</td>\n",
       "      <td>17.153530</td>\n",
       "      <td>19.651149</td>\n",
       "      <td>13.769581</td>\n",
       "      <td>3.104237</td>\n",
       "      <td>12.302076</td>\n",
       "      <td>2.936439</td>\n",
       "      <td>3.926370</td>\n",
       "      <td>3.926370</td>\n",
       "    </tr>\n",
       "    <tr>\n",
       "      <td>5197_at</td>\n",
       "      <td>4.379447</td>\n",
       "      <td>5.756558</td>\n",
       "      <td>6.201667</td>\n",
       "      <td>2.869651</td>\n",
       "      <td>5.771499</td>\n",
       "      <td>4.837062</td>\n",
       "      <td>5.242057</td>\n",
       "      <td>6.099754</td>\n",
       "      <td>4.202958</td>\n",
       "      <td>5.567539</td>\n",
       "      <td>...</td>\n",
       "      <td>5.783276</td>\n",
       "      <td>4.597003</td>\n",
       "      <td>5.136779</td>\n",
       "      <td>6.769016</td>\n",
       "      <td>5.185247</td>\n",
       "      <td>0.929886</td>\n",
       "      <td>6.003840</td>\n",
       "      <td>1.002524</td>\n",
       "      <td>-3.777224</td>\n",
       "      <td>3.777224</td>\n",
       "    </tr>\n",
       "    <tr>\n",
       "      <td>28423_at</td>\n",
       "      <td>7.427628</td>\n",
       "      <td>6.946946</td>\n",
       "      <td>5.184505</td>\n",
       "      <td>6.680152</td>\n",
       "      <td>6.467969</td>\n",
       "      <td>7.557324</td>\n",
       "      <td>7.726022</td>\n",
       "      <td>7.557580</td>\n",
       "      <td>5.841802</td>\n",
       "      <td>7.465034</td>\n",
       "      <td>...</td>\n",
       "      <td>5.299025</td>\n",
       "      <td>5.283407</td>\n",
       "      <td>6.292746</td>\n",
       "      <td>6.743339</td>\n",
       "      <td>7.190665</td>\n",
       "      <td>0.916055</td>\n",
       "      <td>6.431157</td>\n",
       "      <td>0.904084</td>\n",
       "      <td>3.671745</td>\n",
       "      <td>3.671745</td>\n",
       "    </tr>\n",
       "    <tr>\n",
       "      <td>100049587_at</td>\n",
       "      <td>10.095115</td>\n",
       "      <td>10.100637</td>\n",
       "      <td>10.107522</td>\n",
       "      <td>9.017047</td>\n",
       "      <td>9.467271</td>\n",
       "      <td>10.066821</td>\n",
       "      <td>9.904008</td>\n",
       "      <td>9.879690</td>\n",
       "      <td>10.258250</td>\n",
       "      <td>9.195873</td>\n",
       "      <td>...</td>\n",
       "      <td>9.864415</td>\n",
       "      <td>4.787964</td>\n",
       "      <td>9.498502</td>\n",
       "      <td>9.985095</td>\n",
       "      <td>9.465825</td>\n",
       "      <td>1.214374</td>\n",
       "      <td>8.190737</td>\n",
       "      <td>2.811305</td>\n",
       "      <td>3.622145</td>\n",
       "      <td>3.622145</td>\n",
       "    </tr>\n",
       "    <tr>\n",
       "      <td>28500_at</td>\n",
       "      <td>5.904413</td>\n",
       "      <td>5.068874</td>\n",
       "      <td>3.861399</td>\n",
       "      <td>6.257752</td>\n",
       "      <td>5.452482</td>\n",
       "      <td>5.588467</td>\n",
       "      <td>4.864656</td>\n",
       "      <td>5.031872</td>\n",
       "      <td>4.254139</td>\n",
       "      <td>7.035852</td>\n",
       "      <td>...</td>\n",
       "      <td>3.805455</td>\n",
       "      <td>4.765666</td>\n",
       "      <td>3.543674</td>\n",
       "      <td>4.786629</td>\n",
       "      <td>5.593747</td>\n",
       "      <td>0.966411</td>\n",
       "      <td>4.931397</td>\n",
       "      <td>0.918202</td>\n",
       "      <td>3.169997</td>\n",
       "      <td>3.169997</td>\n",
       "    </tr>\n",
       "  </tbody>\n",
       "</table>\n",
       "<p>5 rows × 209 columns</p>\n",
       "</div>"
      ],
      "text/plain": [
       "              GSM1437892  GSM1437987  GSM1438066  GSM1437983  GSM1437941  \\\n",
       "28475_at       10.927796   10.622949   16.786358   12.513802   11.687113   \n",
       "5197_at         4.379447    5.756558    6.201667    2.869651    5.771499   \n",
       "28423_at        7.427628    6.946946    5.184505    6.680152    6.467969   \n",
       "100049587_at   10.095115   10.100637   10.107522    9.017047    9.467271   \n",
       "28500_at        5.904413    5.068874    3.861399    6.257752    5.452482   \n",
       "\n",
       "              GSM1437829  GSM1437817  GSM1438063  GSM1438002  GSM1438008  ...  \\\n",
       "28475_at       11.734975   17.839968   17.555926   10.716478   11.599710  ...   \n",
       "5197_at         4.837062    5.242057    6.099754    4.202958    5.567539  ...   \n",
       "28423_at        7.557324    7.726022    7.557580    5.841802    7.465034  ...   \n",
       "100049587_at   10.066821    9.904008    9.879690   10.258250    9.195873  ...   \n",
       "28500_at        5.588467    4.864656    5.031872    4.254139    7.035852  ...   \n",
       "\n",
       "              GSM1437809  GSM1437861  GSM1438078  GSM1437977  Control_mean  \\\n",
       "28475_at       10.672335   17.283329   17.153530   19.651149     13.769581   \n",
       "5197_at         5.783276    4.597003    5.136779    6.769016      5.185247   \n",
       "28423_at        5.299025    5.283407    6.292746    6.743339      7.190665   \n",
       "100049587_at    9.864415    4.787964    9.498502    9.985095      9.465825   \n",
       "28500_at        3.805455    4.765666    3.543674    4.786629      5.593747   \n",
       "\n",
       "              Control_std  sPTD_mean  sPTD_std  similarity  similarity_abs  \n",
       "28475_at         3.104237  12.302076  2.936439    3.926370        3.926370  \n",
       "5197_at          0.929886   6.003840  1.002524   -3.777224        3.777224  \n",
       "28423_at         0.916055   6.431157  0.904084    3.671745        3.671745  \n",
       "100049587_at     1.214374   8.190737  2.811305    3.622145        3.622145  \n",
       "28500_at         0.966411   4.931397  0.918202    3.169997        3.169997  \n",
       "\n",
       "[5 rows x 209 columns]"
      ]
     },
     "execution_count": 7,
     "metadata": {},
     "output_type": "execute_result"
    }
   ],
   "source": [
    "df = sPTD_data\n",
    "df[['Control_mean', 'Control_std']] = df[control_sample].agg(['mean', 'std'], axis=1)\n",
    "df[['sPTD_mean', 'sPTD_std']] = df[sPTD_sample].agg(['mean', 'std'], axis=1)\n",
    "def welch_t_test(row):\n",
    "    return (\n",
    "        (row['Control_mean'] - row['sPTD_mean']) / \n",
    "        np.sqrt(row['Control_std']/len(control_sample) + row['sPTD_std']/len(sPTD_sample))\n",
    "    )\n",
    "df['similarity'] = df[['Control_mean', 'Control_std', 'sPTD_mean', 'sPTD_std']].apply(welch_t_test, axis=1)\n",
    "df['similarity_abs'] = abs(df['similarity'])\n",
    "df_sorted = df.sort_values('similarity_abs',ascending=False)\n",
    "df_sorted.head()"
   ]
  },
  {
   "cell_type": "code",
   "execution_count": null,
   "metadata": {},
   "outputs": [],
   "source": []
  },
  {
   "cell_type": "code",
   "execution_count": null,
   "metadata": {},
   "outputs": [],
   "source": []
  },
  {
   "cell_type": "markdown",
   "metadata": {},
   "source": [
    "## Split the data into different GA Group"
   ]
  },
  {
   "cell_type": "code",
   "execution_count": 8,
   "metadata": {},
   "outputs": [
    {
     "data": {
      "text/html": [
       "<div>\n",
       "<style scoped>\n",
       "    .dataframe tbody tr th:only-of-type {\n",
       "        vertical-align: middle;\n",
       "    }\n",
       "\n",
       "    .dataframe tbody tr th {\n",
       "        vertical-align: top;\n",
       "    }\n",
       "\n",
       "    .dataframe thead th {\n",
       "        text-align: right;\n",
       "    }\n",
       "</style>\n",
       "<table border=\"1\" class=\"dataframe\">\n",
       "  <thead>\n",
       "    <tr style=\"text-align: right;\">\n",
       "      <th></th>\n",
       "      <th>GSM1437942</th>\n",
       "      <th>GSM1438117</th>\n",
       "      <th>GSM1437815</th>\n",
       "      <th>GSM1437860</th>\n",
       "      <th>GSM1437891</th>\n",
       "      <th>GSM1437874</th>\n",
       "      <th>GSM1437858</th>\n",
       "      <th>GSM1438009</th>\n",
       "      <th>GSM1438005</th>\n",
       "      <th>GSM1437803</th>\n",
       "      <th>GSM1437953</th>\n",
       "      <th>GSM1437825</th>\n",
       "      <th>GSM1437832</th>\n",
       "      <th>GSM1438091</th>\n",
       "      <th>GSM1438075</th>\n",
       "      <th>GSM1437821</th>\n",
       "      <th>GSM1437975</th>\n",
       "      <th>GSM1437971</th>\n",
       "    </tr>\n",
       "  </thead>\n",
       "  <tbody>\n",
       "    <tr>\n",
       "      <td>28475_at</td>\n",
       "      <td>11.471692</td>\n",
       "      <td>18.030960</td>\n",
       "      <td>17.841554</td>\n",
       "      <td>17.409383</td>\n",
       "      <td>12.067329</td>\n",
       "      <td>11.270108</td>\n",
       "      <td>18.004256</td>\n",
       "      <td>11.108813</td>\n",
       "      <td>11.822327</td>\n",
       "      <td>16.567179</td>\n",
       "      <td>11.854990</td>\n",
       "      <td>12.936526</td>\n",
       "      <td>16.964773</td>\n",
       "      <td>17.530485</td>\n",
       "      <td>11.193883</td>\n",
       "      <td>14.384933</td>\n",
       "      <td>11.216214</td>\n",
       "      <td>10.276991</td>\n",
       "    </tr>\n",
       "    <tr>\n",
       "      <td>5197_at</td>\n",
       "      <td>6.969366</td>\n",
       "      <td>4.044957</td>\n",
       "      <td>4.657011</td>\n",
       "      <td>4.953781</td>\n",
       "      <td>5.065897</td>\n",
       "      <td>6.249688</td>\n",
       "      <td>6.090182</td>\n",
       "      <td>5.399519</td>\n",
       "      <td>5.693843</td>\n",
       "      <td>3.960510</td>\n",
       "      <td>5.882891</td>\n",
       "      <td>5.527117</td>\n",
       "      <td>3.940423</td>\n",
       "      <td>5.328847</td>\n",
       "      <td>5.936492</td>\n",
       "      <td>5.797686</td>\n",
       "      <td>5.229343</td>\n",
       "      <td>4.450307</td>\n",
       "    </tr>\n",
       "    <tr>\n",
       "      <td>28423_at</td>\n",
       "      <td>7.508211</td>\n",
       "      <td>8.480147</td>\n",
       "      <td>5.777896</td>\n",
       "      <td>6.271852</td>\n",
       "      <td>6.883952</td>\n",
       "      <td>6.779961</td>\n",
       "      <td>7.904906</td>\n",
       "      <td>7.769330</td>\n",
       "      <td>5.854501</td>\n",
       "      <td>5.505913</td>\n",
       "      <td>6.754667</td>\n",
       "      <td>7.382959</td>\n",
       "      <td>8.315530</td>\n",
       "      <td>7.503981</td>\n",
       "      <td>7.627564</td>\n",
       "      <td>5.521516</td>\n",
       "      <td>7.087781</td>\n",
       "      <td>7.310241</td>\n",
       "    </tr>\n",
       "    <tr>\n",
       "      <td>100049587_at</td>\n",
       "      <td>10.047505</td>\n",
       "      <td>8.935898</td>\n",
       "      <td>9.008933</td>\n",
       "      <td>3.433311</td>\n",
       "      <td>9.940158</td>\n",
       "      <td>9.907694</td>\n",
       "      <td>9.962782</td>\n",
       "      <td>9.852314</td>\n",
       "      <td>9.878640</td>\n",
       "      <td>9.735309</td>\n",
       "      <td>9.759202</td>\n",
       "      <td>10.046166</td>\n",
       "      <td>9.749360</td>\n",
       "      <td>9.816567</td>\n",
       "      <td>9.993136</td>\n",
       "      <td>9.918344</td>\n",
       "      <td>10.503351</td>\n",
       "      <td>9.949638</td>\n",
       "    </tr>\n",
       "    <tr>\n",
       "      <td>28500_at</td>\n",
       "      <td>5.618190</td>\n",
       "      <td>6.929401</td>\n",
       "      <td>5.331462</td>\n",
       "      <td>5.591841</td>\n",
       "      <td>6.887530</td>\n",
       "      <td>6.514006</td>\n",
       "      <td>6.360478</td>\n",
       "      <td>5.559615</td>\n",
       "      <td>4.891637</td>\n",
       "      <td>5.511489</td>\n",
       "      <td>4.281042</td>\n",
       "      <td>7.207372</td>\n",
       "      <td>6.290181</td>\n",
       "      <td>6.047939</td>\n",
       "      <td>6.179962</td>\n",
       "      <td>4.919565</td>\n",
       "      <td>5.414465</td>\n",
       "      <td>4.057818</td>\n",
       "    </tr>\n",
       "  </tbody>\n",
       "</table>\n",
       "</div>"
      ],
      "text/plain": [
       "              GSM1437942  GSM1438117  GSM1437815  GSM1437860  GSM1437891  \\\n",
       "28475_at       11.471692   18.030960   17.841554   17.409383   12.067329   \n",
       "5197_at         6.969366    4.044957    4.657011    4.953781    5.065897   \n",
       "28423_at        7.508211    8.480147    5.777896    6.271852    6.883952   \n",
       "100049587_at   10.047505    8.935898    9.008933    3.433311    9.940158   \n",
       "28500_at        5.618190    6.929401    5.331462    5.591841    6.887530   \n",
       "\n",
       "              GSM1437874  GSM1437858  GSM1438009  GSM1438005  GSM1437803  \\\n",
       "28475_at       11.270108   18.004256   11.108813   11.822327   16.567179   \n",
       "5197_at         6.249688    6.090182    5.399519    5.693843    3.960510   \n",
       "28423_at        6.779961    7.904906    7.769330    5.854501    5.505913   \n",
       "100049587_at    9.907694    9.962782    9.852314    9.878640    9.735309   \n",
       "28500_at        6.514006    6.360478    5.559615    4.891637    5.511489   \n",
       "\n",
       "              GSM1437953  GSM1437825  GSM1437832  GSM1438091  GSM1438075  \\\n",
       "28475_at       11.854990   12.936526   16.964773   17.530485   11.193883   \n",
       "5197_at         5.882891    5.527117    3.940423    5.328847    5.936492   \n",
       "28423_at        6.754667    7.382959    8.315530    7.503981    7.627564   \n",
       "100049587_at    9.759202   10.046166    9.749360    9.816567    9.993136   \n",
       "28500_at        4.281042    7.207372    6.290181    6.047939    6.179962   \n",
       "\n",
       "              GSM1437821  GSM1437975  GSM1437971  \n",
       "28475_at       14.384933   11.216214   10.276991  \n",
       "5197_at         5.797686    5.229343    4.450307  \n",
       "28423_at        5.521516    7.087781    7.310241  \n",
       "100049587_at    9.918344   10.503351    9.949638  \n",
       "28500_at        4.919565    5.414465    4.057818  "
      ]
     },
     "execution_count": 8,
     "metadata": {},
     "output_type": "execute_result"
    }
   ],
   "source": [
    "data_infomation_train = data_infomation.loc[xtrain.index]\n",
    "GA_values = np.unique(data_infomation_train.loc[df_sorted.columns[:-5]][['GA']].values)\n",
    "GA_values = [x for x in GA_values if str(x) != 'nan']\n",
    "df_dict_GA = {}\n",
    "for key in GA_values:\n",
    "    GA_samples = data_infomation_train.loc[data_infomation_train['GA']==key].index\n",
    "    df_dict_GA[key] = GA_samples.tolist()   \n",
    "df  = df_sorted.drop(columns=['Control_mean', 'Control_std', 'sPTD_mean', 'sPTD_std', 'similarity','similarity_abs'])\n",
    "for key in df_dict_GA:\n",
    "    df_dict_GA[key] = df[df_dict_GA[key]]\n",
    "df_dict_GA[18.0].head()"
   ]
  },
  {
   "cell_type": "markdown",
   "metadata": {},
   "source": [
    "This code take a long time to run, I save the result as txt file."
   ]
  },
  {
   "cell_type": "code",
   "execution_count": 9,
   "metadata": {},
   "outputs": [
    {
     "data": {
      "text/plain": [
       "\"invalid_key = []\\nfor key in df_dict_GA:\\n    sample_group, control_sample, sPTD_sample = SampleList_To_Group(df_dict_GA[key])\\n    if len(control_sample)>0 and len(sPTD_sample)>0:\\n        df_dict_GA[key][['Control_mean', 'Control_std']] = df_dict_GA[key][control_sample].agg(['mean', 'std'], axis=1)\\n        df_dict_GA[key][['sPTD_mean', 'sPTD_std']] = df_dict_GA[key][sPTD_sample].agg(['mean', 'std'], axis=1)\\n        df_dict_GA[key]['similarity'] = df_dict_GA[key][['Control_mean', 'Control_std', 'sPTD_mean', 'sPTD_std']].apply(welch_t_test, axis=1)\\n        df_dict_GA[key]['similarity_abs'] = abs(df_dict_GA[key]['similarity'])\\n        df_dict_GA[key] = df_dict_GA[key].sort_values('similarity_abs',ascending=False)\\n    else:\\n        invalid_key.append(key)\\nfor key in invalid_key:\\n    df_dict_GA.pop(key)\\ndf_dict_GA[18.0].head()\""
      ]
     },
     "execution_count": 9,
     "metadata": {},
     "output_type": "execute_result"
    }
   ],
   "source": [
    "'''invalid_key = []\n",
    "for key in df_dict_GA:\n",
    "    sample_group, control_sample, sPTD_sample = SampleList_To_Group(df_dict_GA[key])\n",
    "    if len(control_sample)>0 and len(sPTD_sample)>0:\n",
    "        df_dict_GA[key][['Control_mean', 'Control_std']] = df_dict_GA[key][control_sample].agg(['mean', 'std'], axis=1)\n",
    "        df_dict_GA[key][['sPTD_mean', 'sPTD_std']] = df_dict_GA[key][sPTD_sample].agg(['mean', 'std'], axis=1)\n",
    "        df_dict_GA[key]['similarity'] = df_dict_GA[key][['Control_mean', 'Control_std', 'sPTD_mean', 'sPTD_std']].apply(welch_t_test, axis=1)\n",
    "        df_dict_GA[key]['similarity_abs'] = abs(df_dict_GA[key]['similarity'])\n",
    "        df_dict_GA[key] = df_dict_GA[key].sort_values('similarity_abs',ascending=False)\n",
    "    else:\n",
    "        invalid_key.append(key)\n",
    "for key in invalid_key:\n",
    "    df_dict_GA.pop(key)\n",
    "df_dict_GA[18.0].head()'''"
   ]
  },
  {
   "cell_type": "code",
   "execution_count": 10,
   "metadata": {},
   "outputs": [
    {
     "data": {
      "text/html": [
       "<div>\n",
       "<style scoped>\n",
       "    .dataframe tbody tr th:only-of-type {\n",
       "        vertical-align: middle;\n",
       "    }\n",
       "\n",
       "    .dataframe tbody tr th {\n",
       "        vertical-align: top;\n",
       "    }\n",
       "\n",
       "    .dataframe thead th {\n",
       "        text-align: right;\n",
       "    }\n",
       "</style>\n",
       "<table border=\"1\" class=\"dataframe\">\n",
       "  <thead>\n",
       "    <tr style=\"text-align: right;\">\n",
       "      <th></th>\n",
       "      <th>GSM1437942</th>\n",
       "      <th>GSM1438117</th>\n",
       "      <th>GSM1437815</th>\n",
       "      <th>GSM1437860</th>\n",
       "      <th>GSM1437891</th>\n",
       "      <th>GSM1437874</th>\n",
       "      <th>GSM1437858</th>\n",
       "      <th>GSM1438009</th>\n",
       "      <th>GSM1438005</th>\n",
       "      <th>GSM1437803</th>\n",
       "      <th>...</th>\n",
       "      <th>GSM1438075</th>\n",
       "      <th>GSM1437821</th>\n",
       "      <th>GSM1437975</th>\n",
       "      <th>GSM1437971</th>\n",
       "      <th>Control_mean</th>\n",
       "      <th>Control_std</th>\n",
       "      <th>sPTD_mean</th>\n",
       "      <th>sPTD_std</th>\n",
       "      <th>similarity</th>\n",
       "      <th>similarity_abs</th>\n",
       "    </tr>\n",
       "  </thead>\n",
       "  <tbody>\n",
       "    <tr>\n",
       "      <td>170482_at</td>\n",
       "      <td>1.822535</td>\n",
       "      <td>2.982182</td>\n",
       "      <td>3.289308</td>\n",
       "      <td>1.780016</td>\n",
       "      <td>4.238558</td>\n",
       "      <td>3.404386</td>\n",
       "      <td>2.886408</td>\n",
       "      <td>3.386754</td>\n",
       "      <td>2.260372</td>\n",
       "      <td>3.213468</td>\n",
       "      <td>...</td>\n",
       "      <td>3.586661</td>\n",
       "      <td>3.216322</td>\n",
       "      <td>4.048760</td>\n",
       "      <td>3.151767</td>\n",
       "      <td>3.340555</td>\n",
       "      <td>0.560342</td>\n",
       "      <td>1.801275</td>\n",
       "      <td>0.030065</td>\n",
       "      <td>6.880155</td>\n",
       "      <td>6.880155</td>\n",
       "    </tr>\n",
       "    <tr>\n",
       "      <td>100885782_at</td>\n",
       "      <td>4.495955</td>\n",
       "      <td>2.229202</td>\n",
       "      <td>2.134965</td>\n",
       "      <td>4.248572</td>\n",
       "      <td>2.138916</td>\n",
       "      <td>2.191321</td>\n",
       "      <td>2.380051</td>\n",
       "      <td>2.401897</td>\n",
       "      <td>2.543776</td>\n",
       "      <td>2.392145</td>\n",
       "      <td>...</td>\n",
       "      <td>1.802545</td>\n",
       "      <td>2.038199</td>\n",
       "      <td>2.577303</td>\n",
       "      <td>2.806673</td>\n",
       "      <td>2.302213</td>\n",
       "      <td>0.239020</td>\n",
       "      <td>4.372263</td>\n",
       "      <td>0.174926</td>\n",
       "      <td>-6.468847</td>\n",
       "      <td>6.468847</td>\n",
       "    </tr>\n",
       "    <tr>\n",
       "      <td>105375752_at</td>\n",
       "      <td>4.619810</td>\n",
       "      <td>3.794938</td>\n",
       "      <td>3.489953</td>\n",
       "      <td>4.654763</td>\n",
       "      <td>3.544330</td>\n",
       "      <td>3.648879</td>\n",
       "      <td>4.127187</td>\n",
       "      <td>4.089435</td>\n",
       "      <td>3.513216</td>\n",
       "      <td>3.849650</td>\n",
       "      <td>...</td>\n",
       "      <td>3.923647</td>\n",
       "      <td>3.955590</td>\n",
       "      <td>3.294621</td>\n",
       "      <td>3.653713</td>\n",
       "      <td>3.724776</td>\n",
       "      <td>0.226788</td>\n",
       "      <td>4.637287</td>\n",
       "      <td>0.024716</td>\n",
       "      <td>-5.602110</td>\n",
       "      <td>5.602110</td>\n",
       "    </tr>\n",
       "    <tr>\n",
       "      <td>7134_at</td>\n",
       "      <td>3.801774</td>\n",
       "      <td>4.481491</td>\n",
       "      <td>5.032845</td>\n",
       "      <td>3.816327</td>\n",
       "      <td>4.477059</td>\n",
       "      <td>5.003245</td>\n",
       "      <td>4.496455</td>\n",
       "      <td>4.250205</td>\n",
       "      <td>4.799849</td>\n",
       "      <td>4.826021</td>\n",
       "      <td>...</td>\n",
       "      <td>4.512087</td>\n",
       "      <td>4.474627</td>\n",
       "      <td>4.440534</td>\n",
       "      <td>4.403178</td>\n",
       "      <td>4.557424</td>\n",
       "      <td>0.248593</td>\n",
       "      <td>3.809050</td>\n",
       "      <td>0.010291</td>\n",
       "      <td>5.203753</td>\n",
       "      <td>5.203753</td>\n",
       "    </tr>\n",
       "    <tr>\n",
       "      <td>106480634_at</td>\n",
       "      <td>2.007326</td>\n",
       "      <td>1.164631</td>\n",
       "      <td>0.952350</td>\n",
       "      <td>2.008255</td>\n",
       "      <td>1.220960</td>\n",
       "      <td>0.984871</td>\n",
       "      <td>1.549189</td>\n",
       "      <td>0.833630</td>\n",
       "      <td>1.117393</td>\n",
       "      <td>1.065989</td>\n",
       "      <td>...</td>\n",
       "      <td>1.865295</td>\n",
       "      <td>1.408643</td>\n",
       "      <td>1.559815</td>\n",
       "      <td>1.409930</td>\n",
       "      <td>1.295033</td>\n",
       "      <td>0.304822</td>\n",
       "      <td>2.007790</td>\n",
       "      <td>0.000657</td>\n",
       "      <td>-5.119959</td>\n",
       "      <td>5.119959</td>\n",
       "    </tr>\n",
       "  </tbody>\n",
       "</table>\n",
       "<p>5 rows × 24 columns</p>\n",
       "</div>"
      ],
      "text/plain": [
       "              GSM1437942  GSM1438117  GSM1437815  GSM1437860  GSM1437891  \\\n",
       "170482_at       1.822535    2.982182    3.289308    1.780016    4.238558   \n",
       "100885782_at    4.495955    2.229202    2.134965    4.248572    2.138916   \n",
       "105375752_at    4.619810    3.794938    3.489953    4.654763    3.544330   \n",
       "7134_at         3.801774    4.481491    5.032845    3.816327    4.477059   \n",
       "106480634_at    2.007326    1.164631    0.952350    2.008255    1.220960   \n",
       "\n",
       "              GSM1437874  GSM1437858  GSM1438009  GSM1438005  GSM1437803  ...  \\\n",
       "170482_at       3.404386    2.886408    3.386754    2.260372    3.213468  ...   \n",
       "100885782_at    2.191321    2.380051    2.401897    2.543776    2.392145  ...   \n",
       "105375752_at    3.648879    4.127187    4.089435    3.513216    3.849650  ...   \n",
       "7134_at         5.003245    4.496455    4.250205    4.799849    4.826021  ...   \n",
       "106480634_at    0.984871    1.549189    0.833630    1.117393    1.065989  ...   \n",
       "\n",
       "              GSM1438075  GSM1437821  GSM1437975  GSM1437971  Control_mean  \\\n",
       "170482_at       3.586661    3.216322    4.048760    3.151767      3.340555   \n",
       "100885782_at    1.802545    2.038199    2.577303    2.806673      2.302213   \n",
       "105375752_at    3.923647    3.955590    3.294621    3.653713      3.724776   \n",
       "7134_at         4.512087    4.474627    4.440534    4.403178      4.557424   \n",
       "106480634_at    1.865295    1.408643    1.559815    1.409930      1.295033   \n",
       "\n",
       "              Control_std  sPTD_mean  sPTD_std  similarity  similarity_abs  \n",
       "170482_at        0.560342   1.801275  0.030065    6.880155        6.880155  \n",
       "100885782_at     0.239020   4.372263  0.174926   -6.468847        6.468847  \n",
       "105375752_at     0.226788   4.637287  0.024716   -5.602110        5.602110  \n",
       "7134_at          0.248593   3.809050  0.010291    5.203753        5.203753  \n",
       "106480634_at     0.304822   2.007790  0.000657   -5.119959        5.119959  \n",
       "\n",
       "[5 rows x 24 columns]"
      ]
     },
     "execution_count": 10,
     "metadata": {},
     "output_type": "execute_result"
    }
   ],
   "source": [
    "#pickle.dump(df_dict_GA,open('df_dict_GA_1.txt', 'wb')) # save the result\n",
    "df_dict_GA=pickle.load(open('df_dict_GA_1.txt', 'rb'))\n",
    "df_dict_GA[18.0].head()"
   ]
  },
  {
   "cell_type": "code",
   "execution_count": null,
   "metadata": {},
   "outputs": [],
   "source": []
  },
  {
   "cell_type": "markdown",
   "metadata": {},
   "source": [
    "## Preliminary Feature Selection: Choose genes with high t-test score in different GA and all GAs"
   ]
  },
  {
   "cell_type": "markdown",
   "metadata": {},
   "source": [
    "Select genes: local similarity >= 3 (in different GA) and global similarity >= 2 (in all GA)"
   ]
  },
  {
   "cell_type": "code",
   "execution_count": 11,
   "metadata": {},
   "outputs": [
    {
     "name": "stdout",
     "output_type": "stream",
     "text": [
      "494\n"
     ]
    }
   ],
   "source": [
    "gene_similarity = []\n",
    "for key in df_dict_GA:\n",
    "    df = df_dict_GA[key]\n",
    "    gene = df.loc[df[\"similarity_abs\"] >= 3].index.tolist()\n",
    "    gene_similarity = gene_similarity + gene\n",
    "gene = sPTD_data.loc[df_sorted[\"similarity_abs\"] >= 2].index.tolist()\n",
    "gene_similarity = gene_similarity + gene\n",
    "gene_similarity = np.unique(gene_similarity)\n",
    "print(len(gene_similarity))\n",
    "#print(gene_similarity)"
   ]
  },
  {
   "cell_type": "code",
   "execution_count": 12,
   "metadata": {},
   "outputs": [],
   "source": [
    "xtrain = xtrain[gene_similarity]\n",
    "xtest = xtest[gene_similarity]"
   ]
  },
  {
   "cell_type": "code",
   "execution_count": null,
   "metadata": {},
   "outputs": [],
   "source": []
  },
  {
   "cell_type": "code",
   "execution_count": null,
   "metadata": {},
   "outputs": [],
   "source": []
  },
  {
   "cell_type": "code",
   "execution_count": null,
   "metadata": {},
   "outputs": [],
   "source": []
  },
  {
   "cell_type": "markdown",
   "metadata": {},
   "source": [
    "## Prediction"
   ]
  },
  {
   "cell_type": "code",
   "execution_count": 13,
   "metadata": {},
   "outputs": [],
   "source": [
    "# FROM SKLEARN DOCS: https://scikit-learn.org/stable/auto_examples/model_selection/plot_confusion_matrix.html#sphx-glr-auto-examples-model-selection-plot-confusion-matrix-py\n",
    "\n",
    "# THIS FUNCTION DOES NOT WORK WELL WITH ONLY 2 CLASSES\n",
    "\n",
    "def plot_confusion_matrix(y_true, y_pred, classes,\n",
    "                          normalize=False,\n",
    "                          title=None,\n",
    "                          cmap=plt.cm.Blues):\n",
    "    \"\"\"\n",
    "    This function prints and plots the confusion matrix.\n",
    "    Normalization can be applied by setting `normalize=True`.\n",
    "    \"\"\"\n",
    "    if not title:\n",
    "        if normalize:\n",
    "            title = 'Normalized confusion matrix'\n",
    "        else:\n",
    "            title = 'Confusion matrix, without normalization'\n",
    "\n",
    "    # Compute confusion matrix\n",
    "    cm = confusion_matrix(y_true, y_pred)\n",
    "    # Only use the labels that appear in the data\n",
    "    classes = classes[unique_labels(y_true, y_pred)]\n",
    "    if normalize:\n",
    "        cm = cm.astype('float') / cm.sum(axis=1)[:, np.newaxis]\n",
    "        print(\"Normalized confusion matrix\")\n",
    "    else:\n",
    "        print('Confusion matrix, without normalization')\n",
    "\n",
    "    print(cm)\n",
    "    print(cm.shape)\n",
    "\n",
    "    fig, ax = plt.subplots()\n",
    "    im = ax.imshow(cm, interpolation='nearest', cmap=cmap)\n",
    "    ax.figure.colorbar(im, ax=ax)\n",
    "    # We want to show all ticks...\n",
    "    ax.set(xticks=np.arange(cm.shape[1]),\n",
    "           yticks=np.arange(-0.5, cm.shape[0]),\n",
    "           # ... and label them with the respective list entries\n",
    "           xticklabels=classes, yticklabels=classes,\n",
    "           title=title,\n",
    "           ylabel='True label',\n",
    "           xlabel='Predicted label')\n",
    "\n",
    "    # Rotate the tick labels and set their alignment.\n",
    "    plt.setp(ax.get_xticklabels(), rotation=45, ha=\"right\",\n",
    "             rotation_mode=\"anchor\")\n",
    "\n",
    "    # Loop over data dimensions and create text annotations.\n",
    "    fmt = '.2f' if normalize else 'd'\n",
    "    thresh = cm.max() / 2.\n",
    "    for i in range(cm.shape[0]):\n",
    "        for j in range(cm.shape[1]):\n",
    "            ax.text(j, i, format(cm[i, j], fmt),\n",
    "                    ha=\"center\", va=\"center\",\n",
    "                    color=\"white\" if cm[i, j] > thresh else \"black\")\n",
    "    fig.tight_layout()\n",
    "    return ax"
   ]
  },
  {
   "cell_type": "code",
   "execution_count": null,
   "metadata": {},
   "outputs": [],
   "source": []
  },
  {
   "cell_type": "code",
   "execution_count": null,
   "metadata": {},
   "outputs": [],
   "source": []
  },
  {
   "cell_type": "markdown",
   "metadata": {},
   "source": [
    "## K-Nearest Neighbors"
   ]
  },
  {
   "cell_type": "code",
   "execution_count": 14,
   "metadata": {},
   "outputs": [
    {
     "name": "stdout",
     "output_type": "stream",
     "text": [
      "Confusion matrix, without normalization\n",
      "[[ 2  2]\n",
      " [ 0 47]]\n",
      "(2, 2)\n"
     ]
    },
    {
     "data": {
      "image/png": "[encoded data removed]",
      "text/plain": [
       "<Figure size 432x288 with 2 Axes>"
      ]
     },
     "metadata": {
      "needs_background": "light"
     },
     "output_type": "display_data"
    }
   ],
   "source": [
    "clf = KNeighborsClassifier(n_neighbors=1)\n",
    "clf.fit(xtrain, ytrain)\n",
    "knn_predict = clf.predict(xtest)\n",
    "y_test = ytest\n",
    "y_test = [0 if x == 'sPTD' else x for x in y_test]\n",
    "y_test = [1 if x == 'Control' else x for x in y_test]\n",
    "pred = clf.predict(xtest).tolist()\n",
    "pred = [0 if x == 'sPTD' else x for x in pred]\n",
    "pred = [1 if x == 'Control' else x for x in pred]\n",
    "class_names = np.array(['sPTD', 'Control'])\n",
    "_ = plot_confusion_matrix(y_test, pred, class_names)"
   ]
  },
  {
   "cell_type": "code",
   "execution_count": null,
   "metadata": {},
   "outputs": [],
   "source": []
  },
  {
   "cell_type": "markdown",
   "metadata": {},
   "source": [
    "## Random Forest"
   ]
  },
  {
   "cell_type": "code",
   "execution_count": 15,
   "metadata": {},
   "outputs": [
    {
     "name": "stdout",
     "output_type": "stream",
     "text": [
      "Confusion matrix, without normalization\n",
      "[[ 0  4]\n",
      " [ 0 47]]\n",
      "(2, 2)\n"
     ]
    },
    {
     "data": {
      "image/png": "[encoded data removed]",
      "text/plain": [
       "<Figure size 432x288 with 2 Axes>"
      ]
     },
     "metadata": {
      "needs_background": "light"
     },
     "output_type": "display_data"
    }
   ],
   "source": [
    "clf = RandomForestClassifier(n_estimators=100, max_depth=2, random_state=0)\n",
    "clf.fit(xtrain, ytrain)\n",
    "knn_predict = clf.predict(xtest)\n",
    "y_test = ytest\n",
    "y_test = [0 if x == 'sPTD' else x for x in y_test]\n",
    "y_test = [1 if x == 'Control' else x for x in y_test]\n",
    "pred = clf.predict(xtest).tolist()\n",
    "pred = [0 if x == 'sPTD' else x for x in pred]\n",
    "pred = [1 if x == 'Control' else x for x in pred]\n",
    "class_names = np.array(['sPTD', 'Control'])\n",
    "_ = plot_confusion_matrix(y_test, pred, class_names)"
   ]
  },
  {
   "cell_type": "code",
   "execution_count": null,
   "metadata": {},
   "outputs": [],
   "source": []
  },
  {
   "cell_type": "markdown",
   "metadata": {},
   "source": [
    "## Gaussian Naive Bayes"
   ]
  },
  {
   "cell_type": "code",
   "execution_count": 16,
   "metadata": {},
   "outputs": [
    {
     "name": "stdout",
     "output_type": "stream",
     "text": [
      "Confusion matrix, without normalization\n",
      "[[ 0  4]\n",
      " [ 5 42]]\n",
      "(2, 2)\n"
     ]
    },
    {
     "data": {
      "image/png": "[encoded data removed]",
      "text/plain": [
       "<Figure size 432x288 with 2 Axes>"
      ]
     },
     "metadata": {
      "needs_background": "light"
     },
     "output_type": "display_data"
    }
   ],
   "source": [
    "clf = GaussianNB()\n",
    "clf.fit(xtrain, ytrain)\n",
    "knn_predict = clf.predict(xtest)\n",
    "y_test = ytest\n",
    "y_test = [0 if x == 'sPTD' else x for x in y_test]\n",
    "y_test = [1 if x == 'Control' else x for x in y_test]\n",
    "pred = clf.predict(xtest).tolist()\n",
    "pred = [0 if x == 'sPTD' else x for x in pred]\n",
    "pred = [1 if x == 'Control' else x for x in pred]\n",
    "class_names = np.array(['sPTD', 'Control'])\n",
    "_ = plot_confusion_matrix(y_test, pred, class_names)"
   ]
  },
  {
   "cell_type": "code",
   "execution_count": null,
   "metadata": {},
   "outputs": [],
   "source": []
  },
  {
   "cell_type": "markdown",
   "metadata": {},
   "source": [
    "## Support Vector Machine"
   ]
  },
  {
   "cell_type": "code",
   "execution_count": 17,
   "metadata": {},
   "outputs": [
    {
     "name": "stdout",
     "output_type": "stream",
     "text": [
      "Confusion matrix, without normalization\n",
      "[[ 0  4]\n",
      " [ 0 47]]\n",
      "(2, 2)\n"
     ]
    },
    {
     "data": {
      "image/png": "[encoded data removed]",
      "text/plain": [
       "<Figure size 432x288 with 2 Axes>"
      ]
     },
     "metadata": {
      "needs_background": "light"
     },
     "output_type": "display_data"
    }
   ],
   "source": [
    "clf = svm.SVC(gamma='scale')\n",
    "clf.fit(xtrain, ytrain)\n",
    "knn_predict = clf.predict(xtest)\n",
    "y_test = ytest\n",
    "y_test = [0 if x == 'sPTD' else x for x in y_test]\n",
    "y_test = [1 if x == 'Control' else x for x in y_test]\n",
    "pred = clf.predict(xtest).tolist()\n",
    "pred = [0 if x == 'sPTD' else x for x in pred]\n",
    "pred = [1 if x == 'Control' else x for x in pred]\n",
    "class_names = np.array(['sPTD', 'Control'])\n",
    "_ = plot_confusion_matrix(y_test, pred, class_names)"
   ]
  },
  {
   "cell_type": "code",
   "execution_count": null,
   "metadata": {},
   "outputs": [],
   "source": []
  },
  {
   "cell_type": "markdown",
   "metadata": {},
   "source": [
    "## Logistic Regression"
   ]
  },
  {
   "cell_type": "code",
   "execution_count": 18,
   "metadata": {},
   "outputs": [
    {
     "name": "stdout",
     "output_type": "stream",
     "text": [
      "Confusion matrix, without normalization\n",
      "[[ 0  4]\n",
      " [ 0 47]]\n",
      "(2, 2)\n"
     ]
    },
    {
     "data": {
      "image/png": "[encoded data removed]",
      "text/plain": [
       "<Figure size 432x288 with 2 Axes>"
      ]
     },
     "metadata": {
      "needs_background": "light"
     },
     "output_type": "display_data"
    }
   ],
   "source": [
    "clf = LogisticRegression(random_state=0, solver='lbfgs',multi_class='multinomial')\n",
    "clf.fit(xtrain, ytrain)\n",
    "knn_predict = clf.predict(xtest)\n",
    "y_test = ytest\n",
    "y_test = [0 if x == 'sPTD' else x for x in y_test]\n",
    "y_test = [1 if x == 'Control' else x for x in y_test]\n",
    "pred = clf.predict(xtest).tolist()\n",
    "pred = [0 if x == 'sPTD' else x for x in pred]\n",
    "pred = [1 if x == 'Control' else x for x in pred]\n",
    "class_names = np.array(['sPTD', 'Control'])\n",
    "_ = plot_confusion_matrix(y_test, pred, class_names)"
   ]
  },
  {
   "cell_type": "code",
   "execution_count": null,
   "metadata": {},
   "outputs": [],
   "source": []
  },
  {
   "cell_type": "markdown",
   "metadata": {},
   "source": [
    "## Linear Discriminant Analysis"
   ]
  },
  {
   "cell_type": "code",
   "execution_count": 19,
   "metadata": {},
   "outputs": [
    {
     "name": "stdout",
     "output_type": "stream",
     "text": [
      "Confusion matrix, without normalization\n",
      "[[ 1  3]\n",
      " [ 3 44]]\n",
      "(2, 2)\n"
     ]
    },
    {
     "data": {
      "image/png": "[encoded data removed]",
      "text/plain": [
       "<Figure size 432x288 with 2 Axes>"
      ]
     },
     "metadata": {
      "needs_background": "light"
     },
     "output_type": "display_data"
    }
   ],
   "source": [
    "clf = LDA()\n",
    "clf.fit(xtrain, ytrain)\n",
    "knn_predict = clf.predict(xtest)\n",
    "y_test = ytest\n",
    "y_test = [0 if x == 'sPTD' else x for x in y_test]\n",
    "y_test = [1 if x == 'Control' else x for x in y_test]\n",
    "pred = clf.predict(xtest).tolist()\n",
    "pred = [0 if x == 'sPTD' else x for x in pred]\n",
    "pred = [1 if x == 'Control' else x for x in pred]\n",
    "class_names = np.array(['sPTD', 'Control'])\n",
    "_ = plot_confusion_matrix(y_test, pred, class_names)"
   ]
  },
  {
   "cell_type": "code",
   "execution_count": null,
   "metadata": {},
   "outputs": [],
   "source": []
  },
  {
   "cell_type": "code",
   "execution_count": null,
   "metadata": {},
   "outputs": [],
   "source": []
  },
  {
   "cell_type": "markdown",
   "metadata": {},
   "source": [
    "## Feature Selection: Recursive Feature Elimination"
   ]
  },
  {
   "cell_type": "code",
   "execution_count": 20,
   "metadata": {},
   "outputs": [],
   "source": [
    "# Cross Validation\n",
    "def Cross_Validation(df = xtrain):\n",
    "    kf = KFold(n_splits=5)\n",
    "    train_set_list = []\n",
    "    validation_set_list = []\n",
    "    for train_set, validation_set in kf.split(df):\n",
    "        train_set = df.iloc[train_set]\n",
    "        validation_set = df.iloc[validation_set]\n",
    "        train_set_list.append(train_set)\n",
    "        validation_set_list.append(validation_set)\n",
    "    return train_set_list, validation_set_list"
   ]
  },
  {
   "cell_type": "code",
   "execution_count": null,
   "metadata": {},
   "outputs": [],
   "source": []
  },
  {
   "cell_type": "code",
   "execution_count": null,
   "metadata": {},
   "outputs": [],
   "source": []
  },
  {
   "cell_type": "markdown",
   "metadata": {},
   "source": [
    "## K-Nearest Neighbors"
   ]
  },
  {
   "cell_type": "code",
   "execution_count": 21,
   "metadata": {},
   "outputs": [],
   "source": [
    "def prediction_knn(features, df = xtrain, y = ytrain):\n",
    "    df = df[features]\n",
    "    total_error_ = []\n",
    "    train_set_list, validation_set_list = Cross_Validation(df)\n",
    "    clf = KNeighborsClassifier(n_neighbors=1)\n",
    "    for i in range(len(train_set_list)):\n",
    "        train = train_set_list[i]\n",
    "        test = validation_set_list[i]\n",
    "        sample_group, control_sample, sPTD_sample = SampleList_To_Group(list(train.index))\n",
    "        y_train = sample_group\n",
    "        sample_group, control_sample, sPTD_sample = SampleList_To_Group(list(test.index))\n",
    "        y_test = sample_group\n",
    "        clf.fit(train, y_train)\n",
    "        pred = clf.predict(test).tolist()\n",
    "        error = 0\n",
    "        for i in range(len(pred)):\n",
    "            if y_test[i] != pred[i]:\n",
    "                error += 1\n",
    "        total_error_.append(error)\n",
    "    total_error = np.sum(total_error_)\n",
    "    sample_number = df.shape[0]\n",
    "    error_rate =  total_error/sample_number\n",
    "    return error_rate"
   ]
  },
  {
   "cell_type": "code",
   "execution_count": 22,
   "metadata": {},
   "outputs": [
    {
     "name": "stdout",
     "output_type": "stream",
     "text": [
      "0.9148936170212766\n",
      "0.0\n",
      "8\n"
     ]
    }
   ],
   "source": [
    "rfe_lib = {}\n",
    "feature_lib = {}\n",
    "feature_number = xtrain.shape[0]\n",
    "df = xtrain\n",
    "for n_features_to_select in range(1,feature_number):\n",
    "    clf = SVC(kernel=\"linear\", C=1)\n",
    "    rfe = RFE(estimator=clf, n_features_to_select=n_features_to_select, step=1)\n",
    "    rfe.fit(df, ytrain)\n",
    "    Features = df.columns[rfe.support_]\n",
    "    error_rate = prediction_knn(features = Features)\n",
    "    rfe_lib[n_features_to_select] = error_rate\n",
    "    feature_lib[n_features_to_select] = Features\n",
    "p1 = list(rfe_lib.keys())\n",
    "best_genes_numbers = p1.index(min(p1))+1\n",
    "genes = list(feature_lib[best_genes_numbers])\n",
    "clf = KNeighborsClassifier(n_neighbors=1)\n",
    "xtrain_FS = xtrain[genes]\n",
    "xtest_FS = xtest[genes]\n",
    "clf.fit(xtrain_FS, ytrain)\n",
    "knn_predict = clf.predict(xtest_FS)\n",
    "prediction = list(knn_predict)\n",
    "result = ytest\n",
    "error_num = 0\n",
    "for i in range(len(prediction)):\n",
    "    if prediction[i] == result[i]:\n",
    "        pass\n",
    "    else:\n",
    "        error_num = error_num+1\n",
    "positive_number = 0        \n",
    "negative_number = 0\n",
    "TP_number = 0\n",
    "TN_number = 0\n",
    "for i in range(len(prediction)):\n",
    "    if result[i] == 'Control':\n",
    "        positive_number = positive_number+1\n",
    "        if prediction[i] == result[i]:\n",
    "            TP_number = TP_number+1\n",
    "    if result[i] == 'sPTD':\n",
    "        negative_number = negative_number+1\n",
    "        if prediction[i] == result[i]:\n",
    "            TN_number = TN_number+1\n",
    "TP_rate = TP_number/positive_number\n",
    "TN_rate = TN_number/negative_number\n",
    "print(TP_rate)\n",
    "print(TN_rate)\n",
    "print(error_num)"
   ]
  },
  {
   "cell_type": "code",
   "execution_count": null,
   "metadata": {},
   "outputs": [],
   "source": []
  },
  {
   "cell_type": "markdown",
   "metadata": {},
   "source": [
    "## Random Forest"
   ]
  },
  {
   "cell_type": "code",
   "execution_count": 23,
   "metadata": {},
   "outputs": [],
   "source": [
    "def prediction_rf(features, df = xtrain, y = ytrain):\n",
    "    df = df[features]\n",
    "    total_error_ = []\n",
    "    train_set_list, validation_set_list = Cross_Validation(df)\n",
    "    clf = RandomForestClassifier(n_estimators=100, max_depth=2, random_state=0)\n",
    "    for i in range(len(train_set_list)):\n",
    "        train = train_set_list[i]\n",
    "        test = validation_set_list[i]\n",
    "        sample_group, control_sample, sPTD_sample = SampleList_To_Group(list(train.index))\n",
    "        y_train = sample_group\n",
    "        sample_group, control_sample, sPTD_sample = SampleList_To_Group(list(test.index))\n",
    "        y_test = sample_group\n",
    "        clf.fit(train, y_train)\n",
    "        pred = clf.predict(test).tolist()\n",
    "        error = 0\n",
    "        for i in range(len(pred)):\n",
    "            if y_test[i] != pred[i]:\n",
    "                error += 1\n",
    "        total_error_.append(error)\n",
    "    total_error = np.sum(total_error_)\n",
    "    sample_number = df.shape[0]\n",
    "    error_rate =  total_error/sample_number\n",
    "    return error_rate"
   ]
  },
  {
   "cell_type": "code",
   "execution_count": 24,
   "metadata": {},
   "outputs": [
    {
     "name": "stdout",
     "output_type": "stream",
     "text": [
      "1.0\n",
      "0.0\n",
      "4\n"
     ]
    }
   ],
   "source": [
    "rfe_lib = {}\n",
    "feature_lib = {}\n",
    "feature_number = xtrain.shape[0]\n",
    "df = xtrain\n",
    "for n_features_to_select in range(1,feature_number):\n",
    "    clf = SVC(kernel=\"linear\", C=1)\n",
    "    rfe = RFE(estimator=clf, n_features_to_select=n_features_to_select, step=1)\n",
    "    rfe.fit(df, ytrain)\n",
    "    Features = df.columns[rfe.support_]\n",
    "    error_rate = prediction_rf(features = Features)\n",
    "    rfe_lib[n_features_to_select] = error_rate\n",
    "    feature_lib[n_features_to_select] = Features\n",
    "p1 = list(rfe_lib.keys())\n",
    "best_genes_numbers = p1.index(min(p1))+1\n",
    "genes = list(feature_lib[best_genes_numbers])\n",
    "clf = RandomForestClassifier(n_estimators=100, max_depth=2, random_state=0)\n",
    "xtrain_FS = xtrain[genes]\n",
    "xtest_FS = xtest[genes]\n",
    "clf.fit(xtrain_FS, ytrain)\n",
    "rf_predict = clf.predict(xtest_FS)\n",
    "prediction = list(rf_predict)\n",
    "result = ytest\n",
    "error_num = 0\n",
    "for i in range(len(prediction)):\n",
    "    if prediction[i] == result[i]:\n",
    "        pass\n",
    "    else:\n",
    "        error_num = error_num+1\n",
    "positive_number = 0        \n",
    "negative_number = 0\n",
    "TP_number = 0\n",
    "TN_number = 0\n",
    "for i in range(len(prediction)):\n",
    "    if result[i] == 'Control':\n",
    "        positive_number = positive_number+1\n",
    "        if prediction[i] == result[i]:\n",
    "            TP_number = TP_number+1\n",
    "    if result[i] == 'sPTD':\n",
    "        negative_number = negative_number+1\n",
    "        if prediction[i] == result[i]:\n",
    "            TN_number = TN_number+1\n",
    "TP_rate = TP_number/positive_number\n",
    "TN_rate = TN_number/negative_number\n",
    "print(TP_rate)\n",
    "print(TN_rate)\n",
    "print(error_num)"
   ]
  },
  {
   "cell_type": "code",
   "execution_count": null,
   "metadata": {},
   "outputs": [],
   "source": []
  },
  {
   "cell_type": "markdown",
   "metadata": {},
   "source": [
    "## Gaussian Naive Bayes"
   ]
  },
  {
   "cell_type": "code",
   "execution_count": 25,
   "metadata": {},
   "outputs": [],
   "source": [
    "def prediction_gnb(features, df = xtrain, y = ytrain):\n",
    "    df = df[features]\n",
    "    total_error_ = []\n",
    "    train_set_list, validation_set_list = Cross_Validation(df)\n",
    "    clf = GaussianNB()\n",
    "    for i in range(len(train_set_list)):\n",
    "        train = train_set_list[i]\n",
    "        test = validation_set_list[i]\n",
    "        sample_group, control_sample, sPTD_sample = SampleList_To_Group(list(train.index))\n",
    "        y_train = sample_group\n",
    "        sample_group, control_sample, sPTD_sample = SampleList_To_Group(list(test.index))\n",
    "        y_test = sample_group\n",
    "        clf.fit(train, y_train)\n",
    "        pred = clf.predict(test).tolist()\n",
    "        error = 0\n",
    "        for i in range(len(pred)):\n",
    "            if y_test[i] != pred[i]:\n",
    "                error += 1\n",
    "        total_error_.append(error)\n",
    "    total_error = np.sum(total_error_)\n",
    "    sample_number = df.shape[0]\n",
    "    error_rate =  total_error/sample_number\n",
    "    return error_rate"
   ]
  },
  {
   "cell_type": "code",
   "execution_count": 26,
   "metadata": {},
   "outputs": [
    {
     "name": "stdout",
     "output_type": "stream",
     "text": [
      "1.0\n",
      "0.0\n",
      "4\n"
     ]
    }
   ],
   "source": [
    "rfe_lib = {}\n",
    "feature_lib = {}\n",
    "feature_number = xtrain.shape[0]\n",
    "df = xtrain\n",
    "for n_features_to_select in range(1,feature_number):\n",
    "    clf = SVC(kernel=\"linear\", C=1)\n",
    "    rfe = RFE(estimator=clf, n_features_to_select=n_features_to_select, step=1)\n",
    "    rfe.fit(df, ytrain)\n",
    "    Features = df.columns[rfe.support_]\n",
    "    error_rate = prediction_gnb(features = Features)\n",
    "    rfe_lib[n_features_to_select] = error_rate\n",
    "    feature_lib[n_features_to_select] = Features\n",
    "p1 = list(rfe_lib.keys())\n",
    "best_genes_numbers = p1.index(min(p1))+1\n",
    "genes = list(feature_lib[best_genes_numbers])\n",
    "clf = GaussianNB()\n",
    "xtrain_FS = xtrain[genes]\n",
    "xtest_FS = xtest[genes]\n",
    "clf.fit(xtrain_FS, ytrain)\n",
    "gnb_predict = clf.predict(xtest_FS)\n",
    "prediction = list(gnb_predict)\n",
    "result = ytest\n",
    "error_num = 0\n",
    "for i in range(len(prediction)):\n",
    "    if prediction[i] == result[i]:\n",
    "        pass\n",
    "    else:\n",
    "        error_num = error_num+1\n",
    "positive_number = 0        \n",
    "negative_number = 0\n",
    "TP_number = 0\n",
    "TN_number = 0\n",
    "for i in range(len(prediction)):\n",
    "    if result[i] == 'Control':\n",
    "        positive_number = positive_number+1\n",
    "        if prediction[i] == result[i]:\n",
    "            TP_number = TP_number+1\n",
    "    if result[i] == 'sPTD':\n",
    "        negative_number = negative_number+1\n",
    "        if prediction[i] == result[i]:\n",
    "            TN_number = TN_number+1\n",
    "TP_rate = TP_number/positive_number\n",
    "TN_rate = TN_number/negative_number\n",
    "print(TP_rate)\n",
    "print(TN_rate)\n",
    "print(error_num)"
   ]
  },
  {
   "cell_type": "code",
   "execution_count": null,
   "metadata": {},
   "outputs": [],
   "source": []
  },
  {
   "cell_type": "markdown",
   "metadata": {},
   "source": [
    "## Support Vector Machine"
   ]
  },
  {
   "cell_type": "code",
   "execution_count": 27,
   "metadata": {},
   "outputs": [],
   "source": [
    "def prediction_svm(features, df = xtrain, y = ytrain):\n",
    "    df = df[features]\n",
    "    total_error_ = []\n",
    "    train_set_list, validation_set_list = Cross_Validation(df)\n",
    "    clf = svm.SVC(gamma='scale')\n",
    "    for i in range(len(train_set_list)):\n",
    "        train = train_set_list[i]\n",
    "        test = validation_set_list[i]\n",
    "        sample_group, control_sample, sPTD_sample = SampleList_To_Group(list(train.index))\n",
    "        y_train = sample_group\n",
    "        sample_group, control_sample, sPTD_sample = SampleList_To_Group(list(test.index))\n",
    "        y_test = sample_group\n",
    "        clf.fit(train, y_train)\n",
    "        pred = clf.predict(test).tolist()\n",
    "        error = 0\n",
    "        for i in range(len(pred)):\n",
    "            if y_test[i] != pred[i]:\n",
    "                error += 1\n",
    "        total_error_.append(error)\n",
    "    total_error = np.sum(total_error_)\n",
    "    sample_number = df.shape[0]\n",
    "    error_rate =  total_error/sample_number\n",
    "    return error_rate"
   ]
  },
  {
   "cell_type": "code",
   "execution_count": 28,
   "metadata": {},
   "outputs": [
    {
     "name": "stdout",
     "output_type": "stream",
     "text": [
      "1.0\n",
      "0.0\n",
      "4\n"
     ]
    }
   ],
   "source": [
    "rfe_lib = {}\n",
    "feature_lib = {}\n",
    "feature_number = xtrain.shape[0]\n",
    "df = xtrain\n",
    "for n_features_to_select in range(1,feature_number):\n",
    "    clf = SVC(kernel=\"linear\", C=1)\n",
    "    rfe = RFE(estimator=clf, n_features_to_select=n_features_to_select, step=1)\n",
    "    rfe.fit(df, ytrain)\n",
    "    Features = df.columns[rfe.support_]\n",
    "    error_rate = prediction_svm(features = Features)\n",
    "    rfe_lib[n_features_to_select] = error_rate\n",
    "    feature_lib[n_features_to_select] = Features\n",
    "p1 = list(rfe_lib.keys())\n",
    "best_genes_numbers = p1.index(min(p1))+1\n",
    "genes = list(feature_lib[best_genes_numbers])\n",
    "clf = svm.SVC(gamma='scale')\n",
    "xtrain_FS = xtrain[genes]\n",
    "xtest_FS = xtest[genes]\n",
    "clf.fit(xtrain_FS, ytrain)\n",
    "svm_predict = clf.predict(xtest_FS)\n",
    "prediction = list(svm_predict)\n",
    "result = ytest\n",
    "error_num = 0\n",
    "for i in range(len(prediction)):\n",
    "    if prediction[i] == result[i]:\n",
    "        pass\n",
    "    else:\n",
    "        error_num = error_num+1\n",
    "positive_number = 0        \n",
    "negative_number = 0\n",
    "TP_number = 0\n",
    "TN_number = 0\n",
    "for i in range(len(prediction)):\n",
    "    if result[i] == 'Control':\n",
    "        positive_number = positive_number+1\n",
    "        if prediction[i] == result[i]:\n",
    "            TP_number = TP_number+1\n",
    "    if result[i] == 'sPTD':\n",
    "        negative_number = negative_number+1\n",
    "        if prediction[i] == result[i]:\n",
    "            TN_number = TN_number+1\n",
    "TP_rate = TP_number/positive_number\n",
    "TN_rate = TN_number/negative_number\n",
    "print(TP_rate)\n",
    "print(TN_rate)\n",
    "print(error_num)"
   ]
  },
  {
   "cell_type": "code",
   "execution_count": null,
   "metadata": {},
   "outputs": [],
   "source": []
  },
  {
   "cell_type": "markdown",
   "metadata": {},
   "source": [
    "## Logistic Regression"
   ]
  },
  {
   "cell_type": "code",
   "execution_count": 29,
   "metadata": {},
   "outputs": [],
   "source": [
    "def prediction_lg(features, df = xtrain, y = ytrain):\n",
    "    df = df[features]\n",
    "    total_error_ = []\n",
    "    train_set_list, validation_set_list = Cross_Validation(df)\n",
    "    clf = LogisticRegression(random_state=0, solver='lbfgs',multi_class='multinomial')\n",
    "    for i in range(len(train_set_list)):\n",
    "        train = train_set_list[i]\n",
    "        test = validation_set_list[i]\n",
    "        sample_group, control_sample, sPTD_sample = SampleList_To_Group(list(train.index))\n",
    "        y_train = sample_group\n",
    "        sample_group, control_sample, sPTD_sample = SampleList_To_Group(list(test.index))\n",
    "        y_test = sample_group\n",
    "        clf.fit(train, y_train)\n",
    "        pred = clf.predict(test).tolist()\n",
    "        error = 0\n",
    "        for i in range(len(pred)):\n",
    "            if y_test[i] != pred[i]:\n",
    "                error += 1\n",
    "        total_error_.append(error)\n",
    "    total_error = np.sum(total_error_)\n",
    "    sample_number = df.shape[0]\n",
    "    error_rate =  total_error/sample_number\n",
    "    return error_rate"
   ]
  },
  {
   "cell_type": "code",
   "execution_count": 30,
   "metadata": {},
   "outputs": [
    {
     "name": "stdout",
     "output_type": "stream",
     "text": [
      "1.0\n",
      "0.0\n",
      "4\n"
     ]
    }
   ],
   "source": [
    "rfe_lib = {}\n",
    "feature_lib = {}\n",
    "feature_number = xtrain.shape[0]\n",
    "df = xtrain\n",
    "for n_features_to_select in range(1,feature_number):\n",
    "    clf = SVC(kernel=\"linear\", C=1)\n",
    "    rfe = RFE(estimator=clf, n_features_to_select=n_features_to_select, step=1)\n",
    "    rfe.fit(df, ytrain)\n",
    "    Features = df.columns[rfe.support_]\n",
    "    error_rate = prediction_lg(features = Features)\n",
    "    rfe_lib[n_features_to_select] = error_rate\n",
    "    feature_lib[n_features_to_select] = Features\n",
    "p1 = list(rfe_lib.keys())\n",
    "best_genes_numbers = p1.index(min(p1))+1\n",
    "genes = list(feature_lib[best_genes_numbers])\n",
    "clf = LogisticRegression(random_state=0, solver='lbfgs',multi_class='multinomial')\n",
    "xtrain_FS = xtrain[genes]\n",
    "xtest_FS = xtest[genes]\n",
    "clf.fit(xtrain_FS, ytrain)\n",
    "lg_predict = clf.predict(xtest_FS)\n",
    "prediction = list(lg_predict)\n",
    "result = ytest\n",
    "error_num = 0\n",
    "for i in range(len(prediction)):\n",
    "    if prediction[i] == result[i]:\n",
    "        pass\n",
    "    else:\n",
    "        error_num = error_num+1\n",
    "positive_number = 0        \n",
    "negative_number = 0\n",
    "TP_number = 0\n",
    "TN_number = 0\n",
    "for i in range(len(prediction)):\n",
    "    if result[i] == 'Control':\n",
    "        positive_number = positive_number+1\n",
    "        if prediction[i] == result[i]:\n",
    "            TP_number = TP_number+1\n",
    "    if result[i] == 'sPTD':\n",
    "        negative_number = negative_number+1\n",
    "        if prediction[i] == result[i]:\n",
    "            TN_number = TN_number+1\n",
    "TP_rate = TP_number/positive_number\n",
    "TN_rate = TN_number/negative_number\n",
    "print(TP_rate)\n",
    "print(TN_rate)\n",
    "print(error_num)"
   ]
  },
  {
   "cell_type": "code",
   "execution_count": null,
   "metadata": {},
   "outputs": [],
   "source": []
  },
  {
   "cell_type": "markdown",
   "metadata": {},
   "source": [
    "## Linear Discriminant Analysis"
   ]
  },
  {
   "cell_type": "code",
   "execution_count": 31,
   "metadata": {},
   "outputs": [],
   "source": [
    "def prediction_lda(features, df = xtrain, y = ytrain):\n",
    "    df = df[features]\n",
    "    total_error_ = []\n",
    "    train_set_list, validation_set_list = Cross_Validation(df)\n",
    "    clf = LDA()\n",
    "    for i in range(len(train_set_list)):\n",
    "        train = train_set_list[i]\n",
    "        test = validation_set_list[i]\n",
    "        sample_group, control_sample, sPTD_sample = SampleList_To_Group(list(train.index))\n",
    "        y_train = sample_group\n",
    "        sample_group, control_sample, sPTD_sample = SampleList_To_Group(list(test.index))\n",
    "        y_test = sample_group\n",
    "        clf.fit(train, y_train)\n",
    "        pred = clf.predict(test).tolist()\n",
    "        error = 0\n",
    "        for i in range(len(pred)):\n",
    "            if y_test[i] != pred[i]:\n",
    "                error += 1\n",
    "        total_error_.append(error)\n",
    "    total_error = np.sum(total_error_)\n",
    "    sample_number = df.shape[0]\n",
    "    error_rate =  total_error/sample_number\n",
    "    return error_rate"
   ]
  },
  {
   "cell_type": "code",
   "execution_count": 32,
   "metadata": {},
   "outputs": [
    {
     "name": "stdout",
     "output_type": "stream",
     "text": [
      "1.0\n",
      "0.0\n",
      "4\n"
     ]
    }
   ],
   "source": [
    "rfe_lib = {}\n",
    "feature_lib = {}\n",
    "feature_number = xtrain.shape[0]\n",
    "df = xtrain\n",
    "for n_features_to_select in range(1,feature_number):\n",
    "    clf = SVC(kernel=\"linear\", C=1)\n",
    "    rfe = RFE(estimator=clf, n_features_to_select=n_features_to_select, step=1)\n",
    "    rfe.fit(df, ytrain)\n",
    "    Features = df.columns[rfe.support_]\n",
    "    error_rate = prediction_lda(features = Features)\n",
    "    rfe_lib[n_features_to_select] = error_rate\n",
    "    feature_lib[n_features_to_select] = Features\n",
    "p1 = list(rfe_lib.keys())\n",
    "best_genes_numbers = p1.index(min(p1))+1\n",
    "genes = list(feature_lib[best_genes_numbers])\n",
    "clf = LDA()\n",
    "xtrain_FS = xtrain[genes]\n",
    "xtest_FS = xtest[genes]\n",
    "clf.fit(xtrain_FS, ytrain)\n",
    "lda_predict = clf.predict(xtest_FS)\n",
    "prediction = list(lda_predict)\n",
    "result = ytest\n",
    "error_num = 0\n",
    "for i in range(len(prediction)):\n",
    "    if prediction[i] == result[i]:\n",
    "        pass\n",
    "    else:\n",
    "        error_num = error_num+1\n",
    "positive_number = 0        \n",
    "negative_number = 0\n",
    "TP_number = 0\n",
    "TN_number = 0\n",
    "for i in range(len(prediction)):\n",
    "    if result[i] == 'Control':\n",
    "        positive_number = positive_number+1\n",
    "        if prediction[i] == result[i]:\n",
    "            TP_number = TP_number+1\n",
    "    if result[i] == 'sPTD':\n",
    "        negative_number = negative_number+1\n",
    "        if prediction[i] == result[i]:\n",
    "            TN_number = TN_number+1\n",
    "TP_rate = TP_number/positive_number\n",
    "TN_rate = TN_number/negative_number\n",
    "print(TP_rate)\n",
    "print(TN_rate)\n",
    "print(error_num)"
   ]
  },
  {
   "cell_type": "code",
   "execution_count": null,
   "metadata": {},
   "outputs": [],
   "source": []
  },
  {
   "cell_type": "code",
   "execution_count": null,
   "metadata": {},
   "outputs": [],
   "source": []
  },
  {
   "cell_type": "code",
   "execution_count": null,
   "metadata": {},
   "outputs": [],
   "source": []
  },
  {
   "cell_type": "code",
   "execution_count": null,
   "metadata": {},
   "outputs": [],
   "source": []
  },
  {
   "cell_type": "code",
   "execution_count": null,
   "metadata": {},
   "outputs": [],
   "source": []
  },
  {
   "cell_type": "code",
   "execution_count": null,
   "metadata": {},
   "outputs": [],
   "source": []
  },
  {
   "cell_type": "code",
   "execution_count": null,
   "metadata": {},
   "outputs": [],
   "source": []
  }
 ],
 "metadata": {
  "kernelspec": {
   "display_name": "Python 3",
   "language": "python",
   "name": "python3"
  },
  "language_info": {
   "codemirror_mode": {
    "name": "ipython",
    "version": 3
   },
   "file_extension": ".py",
   "mimetype": "text/x-python",
   "name": "python",
   "nbconvert_exporter": "python",
   "pygments_lexer": "ipython3",
   "version": "3.6.9"
  }
 },
 "nbformat": 4,
 "nbformat_minor": 2
}
